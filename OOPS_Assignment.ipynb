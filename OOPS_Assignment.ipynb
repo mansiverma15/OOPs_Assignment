{
  "nbformat": 4,
  "nbformat_minor": 0,
  "metadata": {
    "colab": {
      "provenance": []
    },
    "kernelspec": {
      "name": "python3",
      "display_name": "Python 3"
    },
    "language_info": {
      "name": "python"
    }
  },
  "cells": [
    {
      "cell_type": "markdown",
      "source": [
        "#OOPS Assignment\n",
        "\n"
      ],
      "metadata": {
        "id": "j4dnjodxCV8l"
      }
    },
    {
      "cell_type": "markdown",
      "source": [
        "##Theorectical Questions\n",
        "\n",
        "\n",
        "1) What is Object-Oriented Programming (OOP)?\n",
        "- Object-Oriented Programming (OOP) is a programming paradigm that organizes code using objects, which are instances of classes. It focuses on structuring programs around real-world entities like objects and their interactions.\n",
        "\n",
        "2) What is a class in OOP?\n",
        "- A class in OOP is a blueprint for creating objects. It defines the attributes (data members) and methods (functions) that the objects of that class will have.\n",
        "\n",
        "3) What is an object in OOP?\n",
        "- An object is an instance of a class in Object-Oriented Programming (OOP). It is a real-world entity that has attributes (data) and behaviors (methods/functions).\n",
        "\n",
        "4) What is the difference between abstraction and encapsulation?\n",
        "- Abstraction and Encapsulation are both key concepts in Object-Oriented Programming but serve different purposes. Abstraction focuses on hiding implementation details and only exposing the necessary functionalities to the user, making complex systems easier to use (e.g., driving a car without knowing its internal mechanics). On the other hand, Encapsulation is about binding data and methods together within a class and restricting direct access to sensitive information to ensure data integrity and security (e.g., private variables in a class that can only be accessed via getter and setter methods). While abstraction hides complexity, encapsulation protects data by controlling access.\n",
        "\n",
        "5) What are dunder methods in Python?\n",
        "- Dunder (short for double underscore) methods, also known as magic methods, are special methods in Python that start and end with double underscores (e.g., __init__, __str__). These methods automate certain behaviors and allow objects to interact with built-in Python functions.\n",
        "\n",
        "6) Explain the concept of inheritance in OOP.\n",
        "- Inheritance is an Object-Oriented Programming (OOP) concept where a child class (subclass) derives properties and behaviors from a parent class (superclass). This allows code reusability and hierarchical classification.\n",
        "\n",
        "7) What is polymorphism in OOP?\n",
        "- Polymorphism means \"many forms\" and allows the same function or method to work differently depending on the object or class that calls it. It helps in writing more flexible and reusable code.\n",
        "\n",
        "8) How is encapsulation achieved in Python?\n",
        "- Encapsulation in Python is achieved using private (__variable) and protected (_variable) attributes to restrict direct access to data. Private attributes can only be accessed using getter and setter methods, ensuring controlled modification. This protects sensitive data, maintains security, and enforces proper access control in a class.\n",
        "\n",
        "9) What is a constructor in Python?\n",
        "- A constructor in Python is a special method __init__() that automatically executes when an object of a class is created. It is used to initialize instance variables and set up object properties. This ensures that an object starts with predefined values when instantiated.\n",
        "\n",
        "10) What are class and static methods in Python?\n",
        "- A class method (@classmethod) is bound to the class and can modify class variables, using cls as the first parameter. A static method (@staticmethod) does not depend on class or instance attributes and works like a regular function inside a class. Both are defined using decorators, @classmethod and @staticmethod, for better organization and reusability.\n",
        "\n",
        "11) What is method overloading in Python?\n",
        "- Method overloading in Python means defining multiple methods with the same name but different parameters. Unlike other languages, Python does not support true method overloading, but we can achieve it using default arguments, *args, or @singledispatch. This allows a single method to handle different numbers or types of arguments flexibly.\n",
        "\n",
        "12) What is method overriding in OOP?\n",
        "- Method overriding in OOP occurs when a child class provides a new implementation of a method that already exists in the parent class. The overridden method in the child class must have the same name and parameters as in the parent class. This allows the child class to customize or change the behavior of the inherited method.\n",
        "\n",
        "13) What is a property decorator in Python?\n",
        "- The @property decorator in Python is used to define a method as a property, allowing it to be accessed like an attribute without parentheses. It helps implement getter, setter, and deleter methods in a clean and readable way. This is useful for controlling access to private attributes while keeping the syntax simple.\n",
        "\n",
        "14) Why is polymorphism important in OOP?\n",
        "- Polymorphism is important in OOP because it allows different classes to use the same interface (method names) but with different implementations, making code more flexible and reusable. It enables method overriding and method overloading, improving scalability and maintainability. This helps in writing generalized code that works with multiple object types seamlessly.\n",
        "\n",
        "15) What is an abstract class in Python?\n",
        "- An abstract class in Python is a class that cannot be instantiated and serves as a blueprint for other classes. It is defined using the ABC module and must have at least one abstract method (@abstractmethod), which must be implemented by child classes. This ensures that all subclasses follow a consistent structure while allowing customization.\n",
        "\n",
        "16) What are the advantages of OOP?\n",
        "- Object-Oriented Programming (OOP) provides code reusability through inheritance, reducing duplication and effort. It improves code organization and security using encapsulation, restricting direct access to data. Polymorphism allows flexibility by enabling multiple implementations of the same method, making code more scalable and maintainable.\n",
        "\n",
        "17) What is the difference between a class variable and an instance variable?\n",
        "- A class variable is shared among all instances of a class and is defined outside any method, while an instance variable is unique to each object and defined inside a method using self. Changing a class variable affects all objects, but changing an instance variable affects only that specific object. Class variables are accessed using ClassName.variable, whereas instance variables use self.variable.\n",
        "\n",
        "18) What is multiple inheritance in Python?\n",
        "- Multiple inheritance in Python allows a class to inherit from more than one parent class, enabling it to access attributes and methods from multiple sources. This helps in code reusability but can lead to complexity, especially with the Diamond Problem (resolved using the Method Resolution Order (MRO)).\n",
        "\n",
        "19) Explain the purpose of ‘’__str__’ and ‘__repr__’ ‘ methods in Python.\n",
        "- The __str__ method in Python is used to return a user-friendly string representation of an object, mainly for display (print(obj)). The __repr__ method returns a developer-friendly and unambiguous representation, often used for debugging (repr(obj)). If __str__ is not defined, __repr__ is used as a fallback.\n",
        "\n",
        "20)  What is the significance of the ‘super()’ function in Python?\n",
        "- The super() function in Python allows a child class to call methods from its parent class, helping in code reuse and avoiding redundancy. It is commonly used in inheritance to call the parent class’s constructor (__init__()) or other methods. This is especially useful in multiple inheritance to ensure proper method resolution.\n",
        "\n",
        "21) What is the significance of the __del__ method in Python?\n",
        "- The __del__ method in Python is a destructor that is called when an object is about to be destroyed (garbage collected). Its main purpose is to free up resources, such as closing files or database connections, before the object is removed from memory. However, Python's automatic garbage collection usually handles memory management, so __del__ is rarely needed.\n",
        "\n",
        "22) What is the difference between @staticmethod and @classmethod in Python.\n",
        "- @staticmethod: It belongs to the class but doesn’t use self or cls, meaning  \n",
        "  it doesn’t access class or instance data. It’s just a normal function inside a class.\n",
        "\n",
        "  @classmethod: It uses cls as a parameter and can modify class variables, making it useful when we need to change something at the class level.\n",
        "\n",
        "  Key Difference: @staticmethod is like a normal function inside a class, while @classmethod can change class-level data using cls.\n",
        "\n",
        "23) How does polymorphism work in Python with inheritance?\n",
        "- Polymorphism with inheritance in Python allows a child class to provide its own version of a method while still following the parent class structure. This is done using method overriding, where the child class redefines a method from the parent class with a different implementation.\n",
        "\n",
        "24) What is method chaining in Python OOP?\n",
        "- Method Chaining in Python allows multiple methods to be called on the same object in a single line, improving code readability. Each method returns self, so the next method can be called directly on the returned object.\n",
        "\n",
        "25) What is the purpose of the __call__ method in Python?\n",
        "- The __call__ method in Python allows an instance of a class to be called like a function. This means that if a class has __call__ defined, you can use object_name() to execute it, just like a function."
      ],
      "metadata": {
        "id": "5CAMEhkpCfTy"
      }
    },
    {
      "cell_type": "markdown",
      "source": [
        "##Practical Questions"
      ],
      "metadata": {
        "id": "fikIOdf0TSNy"
      }
    },
    {
      "cell_type": "code",
      "execution_count": 2,
      "metadata": {
        "id": "EQu8fepFCCOX",
        "colab": {
          "base_uri": "https://localhost:8080/"
        },
        "outputId": "004d0737-0d60-4885-f2aa-73258519aa57"
      },
      "outputs": [
        {
          "output_type": "stream",
          "name": "stdout",
          "text": [
            "This animal makes a sound.\n",
            "Bark!\n"
          ]
        }
      ],
      "source": [
        "#1) Create a parent class Animal with a method speak() that prints a generic message. Create a child class Dog that overrides the speak() method to print \"Bark!\".\n",
        "# Parent class\n",
        "class Animal:\n",
        "    def speak(self):\n",
        "        print(\"This animal makes a sound.\")\n",
        "\n",
        "# Child class\n",
        "class Dog(Animal):\n",
        "    def speak(self):\n",
        "        print(\"Bark!\")\n",
        "\n",
        "# Example usage\n",
        "a = Animal()\n",
        "a.speak()  # Output: This animal makes a sound.\n",
        "\n",
        "d = Dog()\n",
        "d.speak()  # Output: Bark!"
      ]
    },
    {
      "cell_type": "code",
      "source": [
        "#2) Write a program to create an abstract class Shape with a method area(). Derive classes Circle and Rectangle from it and implement the area() method in both.\n",
        "from abc import ABC, abstractmethod\n",
        "import math\n",
        "\n",
        "# Abstract class\n",
        "class Shape(ABC):\n",
        "    @abstractmethod\n",
        "    def area(self):\n",
        "        pass  # Abstract method, must be implemented by subclasses\n",
        "\n",
        "# Derived class for Circle\n",
        "class Circle(Shape):\n",
        "    def __init__(self, radius):\n",
        "        self.radius = radius\n",
        "\n",
        "    def area(self):\n",
        "        return math.pi * self.radius ** 2\n",
        "\n",
        "# Derived class for Rectangle\n",
        "class Rectangle(Shape):\n",
        "    def __init__(self, length, width):\n",
        "        self.length = length\n",
        "        self.width = width\n",
        "\n",
        "    def area(self):\n",
        "        return self.length * self.width\n",
        "\n",
        "# Example usage\n",
        "circle = Circle(5)\n",
        "print(f\"Circle Area: {circle.area():.2f}\")  # Output: Circle Area: 78.54\n",
        "\n",
        "rectangle = Rectangle(4, 6)\n",
        "print(f\"Rectangle Area: {rectangle.area()}\")  # Output: Rectangle Area: 24\n",
        "\n",
        "\n"
      ],
      "metadata": {
        "colab": {
          "base_uri": "https://localhost:8080/"
        },
        "id": "V8hj-m0-1CaW",
        "outputId": "ad35a4c5-5d5c-453d-f704-57e6a33d1773"
      },
      "execution_count": 3,
      "outputs": [
        {
          "output_type": "stream",
          "name": "stdout",
          "text": [
            "Circle Area: 78.54\n",
            "Rectangle Area: 24\n"
          ]
        }
      ]
    },
    {
      "cell_type": "code",
      "source": [
        "#3) Implement a multi-level inheritance scenario where a class Vehicle has an attribute type. Derive a class Car and further derive a class ElectricCar that adds a battery attribute.\n",
        "# Base class\n",
        "class Vehicle:\n",
        "    def __init__(self, vehicle_type):\n",
        "        self.vehicle_type = vehicle_type\n",
        "\n",
        "    def show_type(self):\n",
        "        print(f\"Vehicle Type: {self.vehicle_type}\")\n",
        "\n",
        "# Derived class from Vehicle\n",
        "class Car(Vehicle):\n",
        "    def __init__(self, brand, model, vehicle_type=\"Car\"):\n",
        "        super().__init__(vehicle_type)  # Initialize parent class\n",
        "        self.brand = brand\n",
        "        self.model = model\n",
        "\n",
        "    def show_details(self):\n",
        "        print(f\"Car Brand: {self.brand}, Model: {self.model}\")\n",
        "\n",
        "# Further derived class from Car\n",
        "class ElectricCar(Car):\n",
        "    def __init__(self, brand, model, battery_capacity):\n",
        "        super().__init__(brand, model)  # Initialize Car class\n",
        "        self.battery_capacity = battery_capacity  # New attribute\n",
        "\n",
        "    def show_battery(self):\n",
        "        print(f\"Battery Capacity: {self.battery_capacity} kWh\")\n",
        "\n",
        "# Example usage\n",
        "tesla = ElectricCar(\"Tesla\", \"Model 3\", 75)\n",
        "\n",
        "tesla.show_type()  # Inherited from Vehicle\n",
        "tesla.show_details()  # Inherited from Car\n",
        "tesla.show_battery()  # ElectricCar specific method\n"
      ],
      "metadata": {
        "colab": {
          "base_uri": "https://localhost:8080/"
        },
        "id": "qc-Expxn1VLz",
        "outputId": "107525ce-38ce-4536-a364-9345192ae077"
      },
      "execution_count": 4,
      "outputs": [
        {
          "output_type": "stream",
          "name": "stdout",
          "text": [
            "Vehicle Type: Car\n",
            "Car Brand: Tesla, Model: Model 3\n",
            "Battery Capacity: 75 kWh\n"
          ]
        }
      ]
    },
    {
      "cell_type": "code",
      "source": [
        "#4)  Demonstrate polymorphism by creating a base class Bird with a method fly(). Create two derived classes Sparrow and Penguin that override the fly() method.\n",
        "# Base class\n",
        "class Bird:\n",
        "    def fly(self):\n",
        "        print(\"Some birds can fly.\")\n",
        "\n",
        "# Derived class Sparrow\n",
        "class Sparrow(Bird):\n",
        "    def fly(self):\n",
        "        print(\"Sparrow flies high in the sky.\")\n",
        "\n",
        "# Derived class Penguin\n",
        "class Penguin(Bird):\n",
        "    def fly(self):\n",
        "        print(\"Penguins cannot fly, they swim instead.\")\n",
        "\n",
        "# Function demonstrating polymorphism\n",
        "def show_flight(bird):\n",
        "    bird.fly()\n",
        "\n",
        "# Creating objects\n",
        "sparrow = Sparrow()\n",
        "penguin = Penguin()\n",
        "\n",
        "# Calling the function with different objects\n",
        "show_flight(sparrow)  # Output: Sparrow flies high in the sky.\n",
        "show_flight(penguin)  # Output: Penguins cannot fly, they swim instead."
      ],
      "metadata": {
        "colab": {
          "base_uri": "https://localhost:8080/"
        },
        "id": "YOw6c5481mp3",
        "outputId": "acdde334-bb44-4e50-ac76-65096e089ccc"
      },
      "execution_count": 5,
      "outputs": [
        {
          "output_type": "stream",
          "name": "stdout",
          "text": [
            "Sparrow flies high in the sky.\n",
            "Penguins cannot fly, they swim instead.\n"
          ]
        }
      ]
    },
    {
      "cell_type": "code",
      "source": [
        "#5)  Write a program to demonstrate encapsulation by creating a class BankAccount with private attributes balance and methods to deposit, withdraw, and check balance.\n",
        "class BankAccount:\n",
        "    def __init__(self, initial_balance=0):\n",
        "        self.__balance = initial_balance  # Private attribute\n",
        "\n",
        "    def deposit(self, amount):\n",
        "        if amount > 0:\n",
        "            self.__balance += amount\n",
        "            print(f\"₹{amount} deposited successfully.\")\n",
        "        else:\n",
        "            print(\"Invalid deposit amount.\")\n",
        "\n",
        "    def withdraw(self, amount):\n",
        "        if 0 < amount <= self.__balance:\n",
        "            self.__balance -= amount\n",
        "            print(f\"₹{amount} withdrawn successfully.\")\n",
        "        else:\n",
        "            print(\"Insufficient balance or invalid amount.\")\n",
        "\n",
        "    def get_balance(self):\n",
        "        return self.__balance  # Accessing private attribute through a method\n",
        "\n",
        "# Creating an object of BankAccount\n",
        "account = BankAccount(5000)\n",
        "\n",
        "# Performing operations\n",
        "account.deposit(2000)     # Depositing money\n",
        "account.withdraw(1500)    # Withdrawing money\n",
        "\n",
        "# Checking balance\n",
        "print(f\"Current Balance: ₹{account.get_balance()}\")\n",
        "\n",
        "# Trying to access private attribute directly (will cause an error)\n",
        "# print(account.__balance)  # AttributeError"
      ],
      "metadata": {
        "colab": {
          "base_uri": "https://localhost:8080/"
        },
        "id": "hQl2dIGH1zk9",
        "outputId": "5b56c724-e43d-4f8d-9392-2d3f69a06c87"
      },
      "execution_count": 6,
      "outputs": [
        {
          "output_type": "stream",
          "name": "stdout",
          "text": [
            "₹2000 deposited successfully.\n",
            "₹1500 withdrawn successfully.\n",
            "Current Balance: ₹5500\n"
          ]
        }
      ]
    },
    {
      "cell_type": "code",
      "source": [
        "#6) Demonstrate runtime polymorphism using a method play() in a base class Instrument. Derive classes Guitar and Piano that implement their own version of play().\n",
        "class Instrument:\n",
        "    def play(self):\n",
        "        print(\"Playing an instrument...\")\n",
        "\n",
        "class Guitar(Instrument):\n",
        "    def play(self):\n",
        "        print(\"Strumming the guitar!\")\n",
        "\n",
        "class Piano(Instrument):\n",
        "    def play(self):\n",
        "        print(\"Playing the piano!\")\n",
        "\n",
        "# Function to demonstrate polymorphism\n",
        "def perform(instrument):\n",
        "    instrument.play()\n",
        "\n",
        "# Creating objects of derived classes\n",
        "guitar = Guitar()\n",
        "piano = Piano()\n",
        "\n",
        "# Calling the function with different objects\n",
        "perform(guitar)\n",
        "perform(piano)\n"
      ],
      "metadata": {
        "colab": {
          "base_uri": "https://localhost:8080/"
        },
        "id": "5QdOh1ng2CoB",
        "outputId": "87309823-2a78-4f63-c0cf-5f101126ed06"
      },
      "execution_count": 7,
      "outputs": [
        {
          "output_type": "stream",
          "name": "stdout",
          "text": [
            "Strumming the guitar!\n",
            "Playing the piano!\n"
          ]
        }
      ]
    },
    {
      "cell_type": "code",
      "source": [
        "#7) Create a class MathOperations with a class method add_numbers() to add two numbers and a static method subtract_numbers() to subtract two numbers.\n",
        "class MathOperations:\n",
        "    @classmethod\n",
        "    def add_numbers(cls, a, b):\n",
        "        \"\"\"Class method to add two numbers.\"\"\"\n",
        "        return a + b\n",
        "\n",
        "    @staticmethod\n",
        "    def subtract_numbers(a, b):\n",
        "        \"\"\"Static method to subtract two numbers.\"\"\"\n",
        "        return a - b\n",
        "\n",
        "# Using class method\n",
        "sum_result = MathOperations.add_numbers(10, 5)\n",
        "print(\"Sum:\", sum_result)  # Output: Sum: 15\n",
        "\n",
        "# Using static method\n",
        "difference = MathOperations.subtract_numbers(10, 5)\n",
        "print(\"Difference:\", difference)"
      ],
      "metadata": {
        "colab": {
          "base_uri": "https://localhost:8080/"
        },
        "id": "QrE9DGAp2WY0",
        "outputId": "873cfc13-06c3-4712-c581-f1b5e21e81bc"
      },
      "execution_count": 8,
      "outputs": [
        {
          "output_type": "stream",
          "name": "stdout",
          "text": [
            "Sum: 15\n",
            "Difference: 5\n"
          ]
        }
      ]
    },
    {
      "cell_type": "code",
      "source": [
        "#8) Implement a class Person with a class method to count the total number of persons created.\n",
        "class Person:\n",
        "    count = 0  # Class variable to keep track of the number of instances\n",
        "\n",
        "    def __init__(self, name):\n",
        "        self.name = name\n",
        "        Person.count += 1  # Increment count when a new instance is created\n",
        "\n",
        "    @classmethod\n",
        "    def total_persons(cls):\n",
        "        \"\"\"Class method to return the total number of persons created.\"\"\"\n",
        "        return cls.count\n",
        "\n",
        "# Creating instances of Person\n",
        "p1 = Person(\"Alice\")\n",
        "p2 = Person(\"Bob\")\n",
        "p3 = Person(\"Charlie\")\n",
        "\n",
        "# Using class method to get total persons created\n",
        "print(\"Total persons created:\", Person.total_persons())"
      ],
      "metadata": {
        "colab": {
          "base_uri": "https://localhost:8080/"
        },
        "id": "eyHDA8Fa2r9O",
        "outputId": "ce0a6b7e-7377-4406-ec90-3cf5b20d7215"
      },
      "execution_count": 9,
      "outputs": [
        {
          "output_type": "stream",
          "name": "stdout",
          "text": [
            "Total persons created: 3\n"
          ]
        }
      ]
    },
    {
      "cell_type": "code",
      "source": [
        "#9) Write a class Fraction with attributes numerator and denominator. Override the str method to display the fraction as \"numerator/denominator\".\n",
        "class Fraction:\n",
        "    def __init__(self, numerator, denominator):\n",
        "        if denominator == 0:\n",
        "            raise ValueError(\"Denominator cannot be zero\")\n",
        "        self.numerator = numerator\n",
        "        self.denominator = denominator\n",
        "\n",
        "    def __str__(self):\n",
        "        return f\"{self.numerator}/{self.denominator}\"\n",
        "\n",
        "# Example usage\n",
        "f1 = Fraction(3, 4)\n",
        "f2 = Fraction(5, 8)\n",
        "\n",
        "print(f1)\n",
        "print(f2)"
      ],
      "metadata": {
        "colab": {
          "base_uri": "https://localhost:8080/"
        },
        "id": "ypusoF3s282d",
        "outputId": "e9e6ac52-33ee-4c65-8ba3-0b8cf348edfc"
      },
      "execution_count": 10,
      "outputs": [
        {
          "output_type": "stream",
          "name": "stdout",
          "text": [
            "3/4\n",
            "5/8\n"
          ]
        }
      ]
    },
    {
      "cell_type": "code",
      "source": [
        "#10) . Demonstrate operator overloading by creating a class Vector and overriding the add method to add two vectors.\n",
        "class Vector:\n",
        "    def __init__(self, x, y):\n",
        "        self.x = x\n",
        "        self.y = y\n",
        "\n",
        "    def __add__(self, other):\n",
        "        if not isinstance(other, Vector):\n",
        "            raise TypeError(\"Operand must be an instance of Vector\")\n",
        "        return Vector(self.x + other.x, self.y + other.y)\n",
        "\n",
        "    def __str__(self):\n",
        "        return f\"Vector({self.x}, {self.y})\"\n",
        "\n",
        "# Example usage\n",
        "v1 = Vector(2, 3)\n",
        "v2 = Vector(4, 5)\n",
        "v3 = v1 + v2  # Using overloaded '+' operator\n",
        "\n",
        "print(v3)"
      ],
      "metadata": {
        "colab": {
          "base_uri": "https://localhost:8080/"
        },
        "id": "4Gnv91cK3MF5",
        "outputId": "3d7c30fd-fd0a-4bc7-9a52-55cf4aa1c8c6"
      },
      "execution_count": 11,
      "outputs": [
        {
          "output_type": "stream",
          "name": "stdout",
          "text": [
            "Vector(6, 8)\n"
          ]
        }
      ]
    },
    {
      "cell_type": "code",
      "source": [
        "#11)  Create a class Person with attributes name and age. Add a method greet() that prints \"Hello, my name is {name} and I am {age} years old.\"\n",
        "class Person:\n",
        "    def __init__(self, name, age):\n",
        "        self.name = name\n",
        "        self.age = age\n",
        "\n",
        "    def greet(self):\n",
        "        print(f\"Hello, my name is {self.name} and I am {self.age} years old.\")\n",
        "\n",
        "# Example usage\n",
        "person1 = Person(\"Alice\", 25)\n",
        "person1.greet()\n"
      ],
      "metadata": {
        "colab": {
          "base_uri": "https://localhost:8080/"
        },
        "id": "PzpFWRHB3bwO",
        "outputId": "5165537d-2a10-4698-8473-5b082b186227"
      },
      "execution_count": 12,
      "outputs": [
        {
          "output_type": "stream",
          "name": "stdout",
          "text": [
            "Hello, my name is Alice and I am 25 years old.\n"
          ]
        }
      ]
    },
    {
      "cell_type": "code",
      "source": [
        "#12)  Implement a class Student with attributes name and grades. Create a method average_grade() to compute the average of the grades.\n",
        "class Student:\n",
        "    def __init__(self, name, grades):\n",
        "        self.name = name\n",
        "        self.grades = grades  # List of grades\n",
        "\n",
        "    def average_grade(self):\n",
        "        return sum(self.grades) / len(self.grades) if self.grades else 0\n",
        "\n",
        "# Example usage\n",
        "student1 = Student(\"Alice\", [85, 90, 78, 92])\n",
        "print(f\"{student1.name}'s average grade: {student1.average_grade():.2f}\")"
      ],
      "metadata": {
        "colab": {
          "base_uri": "https://localhost:8080/"
        },
        "id": "BdYYG7My3sBj",
        "outputId": "f9a5fd3e-7d8f-483e-da0b-2cff29bf2fba"
      },
      "execution_count": 13,
      "outputs": [
        {
          "output_type": "stream",
          "name": "stdout",
          "text": [
            "Alice's average grade: 86.25\n"
          ]
        }
      ]
    },
    {
      "cell_type": "code",
      "source": [
        "#13) Create a class Rectangle with methods set_dimensions() to set the dimensions and area() to calculate the area.\n",
        "class Rectangle:\n",
        "    def __init__(self):\n",
        "        self.length = 0\n",
        "        self.width = 0\n",
        "\n",
        "    def set_dimensions(self, length, width):\n",
        "        self.length = length\n",
        "        self.width = width\n",
        "\n",
        "    def area(self):\n",
        "        return self.length * self.width\n",
        "\n",
        "# Example usage\n",
        "rect = Rectangle()\n",
        "rect.set_dimensions(5, 3)\n",
        "print(f\"Area of rectangle: {rect.area()}\")\n"
      ],
      "metadata": {
        "colab": {
          "base_uri": "https://localhost:8080/"
        },
        "id": "ceMFN_qW37Dn",
        "outputId": "367a8a36-0324-4fb6-bf4d-42cb3358ed2f"
      },
      "execution_count": 14,
      "outputs": [
        {
          "output_type": "stream",
          "name": "stdout",
          "text": [
            "Area of rectangle: 15\n"
          ]
        }
      ]
    },
    {
      "cell_type": "code",
      "source": [
        "#14)  Create a class Employee with a method calculate_salary() that computes the salary based on hours worked and hourly rate. Create a derived class Manager that adds a bonus to the salary.\n",
        "class Employee:\n",
        "    def __init__(self, name, hours_worked, hourly_rate):\n",
        "        self.name = name\n",
        "        self.hours_worked = hours_worked\n",
        "        self.hourly_rate = hourly_rate\n",
        "\n",
        "    def calculate_salary(self):\n",
        "        return self.hours_worked * self.hourly_rate\n",
        "\n",
        "class Manager(Employee):\n",
        "    def __init__(self, name, hours_worked, hourly_rate, bonus):\n",
        "        super().__init__(name, hours_worked, hourly_rate)\n",
        "        self.bonus = bonus\n",
        "\n",
        "    def calculate_salary(self):\n",
        "        return super().calculate_salary() + self.bonus\n",
        "\n",
        "# Example usage\n",
        "emp = Employee(\"Alice\", 40, 20)\n",
        "print(f\"{emp.name}'s Salary: ${emp.calculate_salary()}\")\n",
        "\n",
        "mgr = Manager(\"Bob\", 40, 30, 500)\n",
        "print(f\"{mgr.name}'s Salary: ${mgr.calculate_salary()}\")\n"
      ],
      "metadata": {
        "colab": {
          "base_uri": "https://localhost:8080/"
        },
        "id": "I3dHJHCe4O00",
        "outputId": "abac647a-6f87-4898-e0ea-3f3e699946ca"
      },
      "execution_count": 15,
      "outputs": [
        {
          "output_type": "stream",
          "name": "stdout",
          "text": [
            "Alice's Salary: $800\n",
            "Bob's Salary: $1700\n"
          ]
        }
      ]
    },
    {
      "cell_type": "code",
      "source": [
        "#15) Create a class Product with attributes name, price, and quantity. Implement a method total_price() that calculates the total price of the product.\n",
        "class Product:\n",
        "    def __init__(self, name, price, quantity):\n",
        "        self.name = name\n",
        "        self.price = price\n",
        "        self.quantity = quantity\n",
        "\n",
        "    def total_price(self):\n",
        "        return self.price * self.quantity\n",
        "\n",
        "# Example usage\n",
        "product1 = Product(\"Laptop\", 50000, 2)\n",
        "print(f\"Total price of {product1.name}: ₹{product1.total_price()}\")\n",
        "\n",
        "product2 = Product(\"Smartphone\", 20000, 3)\n",
        "print(f\"Total price of {product2.name}: ₹{product2.total_price()}\")\n"
      ],
      "metadata": {
        "colab": {
          "base_uri": "https://localhost:8080/"
        },
        "id": "xmvDbIgs4h6j",
        "outputId": "2be8d740-0ff5-4cef-e1f1-ea61ff4a7cc3"
      },
      "execution_count": 17,
      "outputs": [
        {
          "output_type": "stream",
          "name": "stdout",
          "text": [
            "Total price of Laptop: ₹100000\n",
            "Total price of Smartphone: ₹60000\n"
          ]
        }
      ]
    },
    {
      "cell_type": "code",
      "source": [
        "#16) Create a class Animal with an abstract method sound(). Create two derived classes Cow and Sheep that implement the sound() method.\n",
        "from abc import ABC, abstractmethod\n",
        "\n",
        "# Abstract class\n",
        "class Animal(ABC):\n",
        "    @abstractmethod\n",
        "    def sound(self):\n",
        "        pass  # Abstract method, must be implemented in derived classes\n",
        "\n",
        "# Derived class Cow\n",
        "class Cow(Animal):\n",
        "    def sound(self):\n",
        "        return \"Moo!\"\n",
        "\n",
        "# Derived class Sheep\n",
        "class Sheep(Animal):\n",
        "    def sound(self):\n",
        "        return \"Baa!\"\n",
        "\n",
        "# Example usage\n",
        "cow = Cow()\n",
        "sheep = Sheep()\n",
        "\n",
        "print(f\"Cow: {cow.sound()}\")\n",
        "print(f\"Sheep: {sheep.sound()}\")\n"
      ],
      "metadata": {
        "colab": {
          "base_uri": "https://localhost:8080/"
        },
        "id": "W5ST76td45gz",
        "outputId": "08c67fa1-77b4-4abb-ed7a-93f9b81f3fb5"
      },
      "execution_count": 19,
      "outputs": [
        {
          "output_type": "stream",
          "name": "stdout",
          "text": [
            "Cow: Moo!\n",
            "Sheep: Baa!\n"
          ]
        }
      ]
    },
    {
      "cell_type": "code",
      "source": [
        "#17) Create a class Book with attributes title, author, and year_published. Add a method get_book_info() that returns a formatted string with the book's details.\n",
        "class Book:\n",
        "    def __init__(self, title, author, year_published):\n",
        "        self.title = title\n",
        "        self.author = author\n",
        "        self.year_published = year_published\n",
        "\n",
        "    def get_book_info(self):\n",
        "        return f\"'{self.title}' by {self.author}, published in {self.year_published}.\"\n",
        "\n",
        "# Example usage\n",
        "book1 = Book(\"The Alchemist\", \"Paulo Coelho\", 1988)\n",
        "print(book1.get_book_info())"
      ],
      "metadata": {
        "colab": {
          "base_uri": "https://localhost:8080/"
        },
        "id": "a5pTowUp5EUF",
        "outputId": "3ae55050-ee72-4028-d6b3-9114a18e8e2c"
      },
      "execution_count": 20,
      "outputs": [
        {
          "output_type": "stream",
          "name": "stdout",
          "text": [
            "'The Alchemist' by Paulo Coelho, published in 1988.\n"
          ]
        }
      ]
    },
    {
      "cell_type": "code",
      "source": [
        "#18)  Create a class House with attributes address and price. Create a derived class Mansion that adds an attribute number_of_rooms.\n",
        "class House:\n",
        "    def __init__(self, address, price):\n",
        "        self.address = address\n",
        "        self.price = price\n",
        "\n",
        "    def get_details(self):\n",
        "        return f\"Address: {self.address}, Price: ₹{self.price}\"\n",
        "\n",
        "class Mansion(House):\n",
        "    def __init__(self, address, price, number_of_rooms):\n",
        "        super().__init__(address, price)\n",
        "        self.number_of_rooms = number_of_rooms\n",
        "\n",
        "    def get_details(self):\n",
        "        return f\"Address: {self.address}, Price: ₹{self.price}, Rooms: {self.number_of_rooms}\"\n",
        "\n",
        "# Example usage\n",
        "house = House(\"123 Main St, Mumbai\", 5000000)\n",
        "mansion = Mansion(\"Luxury Villa, Delhi\", 20000000, 10)\n",
        "\n",
        "print(house.get_details())\n",
        "print(mansion.get_details())"
      ],
      "metadata": {
        "colab": {
          "base_uri": "https://localhost:8080/"
        },
        "id": "g1teqwPY5RpJ",
        "outputId": "15bca1a1-4338-4dc1-ebb8-b848d78c3139"
      },
      "execution_count": 21,
      "outputs": [
        {
          "output_type": "stream",
          "name": "stdout",
          "text": [
            "Address: 123 Main St, Mumbai, Price: ₹5000000\n",
            "Address: Luxury Villa, Delhi, Price: ₹20000000, Rooms: 10\n"
          ]
        }
      ]
    }
  ]
}